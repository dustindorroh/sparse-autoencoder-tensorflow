{
 "cells": [
  {
   "cell_type": "code",
   "execution_count": 2,
   "metadata": {},
   "outputs": [],
   "source": [
    "import numpy as np\n",
    "from scipy import stats\n",
    "import pymesh\n",
    "mesh = pymesh.load_mesh('bunny.obj')\n",
    "#mesh = pymesh.load_mesh('square_2D.obj')\n",
    "#mesh = pymesh.load_mesh('cube.obj')\n",
    "\n",
    "mesh.enable_connectivity()\n",
    "\n",
    "# print mesh.num_vertices, mesh.num_faces, mesh.num_voxels\n",
    "# print mesh.dim, mesh.vertex_per_face, mesh.vertex_per_voxel\n",
    "# print mesh.vertices\n"
   ]
  },
  {
   "cell_type": "markdown",
   "metadata": {},
   "source": [
    "# Local feature calculation \n",
    "\n",
    "\n",
    "\n",
    "Lets try and calculate some features described in section 3.1.1 in https://arxiv.org/abs/1605.00129\n",
    "\n",
    "First lets turn on some helpfull attributes in the mesh"
   ]
  },
  {
   "cell_type": "code",
   "execution_count": 16,
   "metadata": {},
   "outputs": [],
   "source": [
    "mesh.add_attribute('vertex_normal')\n",
    "mesh.add_attribute('vertex_laplacian')\n",
    "mesh.add_attribute('vertex_mean_curvature')\n",
    "mesh.add_attribute('vertex_gaussian_curvature')\n",
    "mesh.add_attribute('vertex_index')\n",
    "\n",
    "def feature_aggregate(x):\n",
    "    ''' Feature aggregation function\n",
    "        x: np.array\n",
    "        returns: list of max,min,max-min,mean,var,harmonic mean\n",
    "    '''\n",
    "    return [x.max(),x.min(),x.max()-x.min(),x.mean(),x.var(),stats.hmean(x)]\n"
   ]
  },
  {
   "cell_type": "markdown",
   "metadata": {},
   "source": [
    "## Euclidean distance\n",
    "\n",
    "Calculate Euclidean distance the between neighborhood vertices to the tangent plane of a vertex v.\n"
   ]
  },
  {
   "cell_type": "code",
   "execution_count": 18,
   "metadata": {},
   "outputs": [
    {
     "name": "stdout",
     "output_type": "stream",
     "text": [
      "distances: [0.00033088 0.00028909 0.00029419 0.00048537 0.00023373 0.00043732]\n",
      "f_d:       [0.0004853726125383338, 0.00023372706719911146, 0.00025164554533922234, 0.00034509752390113313, 7.752714567834698e-09, 0.00032422060866673513]\n"
     ]
    }
   ],
   "source": [
    "vi = 0 # Lets just choose the first for now\n",
    "\n",
    "vertex_normal = mesh.get_attribute('vertex_normal').reshape(-1,mesh.dim)\n",
    "neighbor_vertices_indexes = mesh.get_vertex_adjacent_vertices(vi)\n",
    "\n",
    "# Get the target vertex index and normal  \n",
    "n = vertex_normal[vi]\n",
    "v = mesh.vertices[vi]\n",
    "\n",
    "n_jk = vertex_normal[neighbor_vertices_indexes]\n",
    "v_jk = mesh.vertices[neighbor_vertices_indexes]\n",
    "\n",
    "\n",
    "#distances = np.abs((v - v_jk).dot(n))/np.linalg.norm(n)\n",
    "distances = np.abs((v - v_jk).dot(n)) # n is already a unit vector\n",
    "f_d = feature_aggregate(distances)\n",
    "\n",
    "print 'distances: {}'.format(distances)\n",
    "print 'f_d:       {}'.format(f_d)"
   ]
  },
  {
   "cell_type": "markdown",
   "metadata": {},
   "source": [
    "## Angle θ of normal vector between v and v_kj"
   ]
  },
  {
   "cell_type": "code",
   "execution_count": 19,
   "metadata": {},
   "outputs": [
    {
     "name": "stdout",
     "output_type": "stream",
     "text": [
      "thetas(rad):   [11.901391    6.11664381  5.85407861  8.23079405  7.81086617 11.48873655]\n",
      "f_theta:       [0.2077184584338905, 0.10217294649274043, 0.10554551194115007, 0.14952384113643233, 0.0017111207534338073, 0.13872063796282677]\n"
     ]
    }
   ],
   "source": [
    "#thetas = np.arccos(np.dot(n_jk,n)/(np.linalg.norm(n)*np.linalg.norm(n_jk,axis=1)))\n",
    "thetas = np.arccos(np.dot(n_jk,n)) # n and n_jk are already unit vectors \n",
    "f_theta = feature_aggregate(thetas)\n",
    "\n",
    "print 'thetas(rad):   {}'.format(np.rad2deg(thetas))\n",
    "print 'f_theta:       {}'.format(f_theta)\n"
   ]
  },
  {
   "cell_type": "markdown",
   "metadata": {},
   "source": [
    "## Gaussian, mean, and principal curvatures\n",
    "\n",
    "http://mathworld.wolfram.com/PrincipalCurvatures.html\n"
   ]
  },
  {
   "cell_type": "code",
   "execution_count": 21,
   "metadata": {},
   "outputs": [
    {
     "name": "stdout",
     "output_type": "stream",
     "text": [
      "c1:        722.713539673\n",
      "c2:        722.713539673\n",
      "c1c2:      361.370915219\n",
      "(c1+c2)/2: 20.4461183094\n",
      "f_c:       [722.7135396728975, 0.028290764164523807, 20.44611830938878, 361.370915218531]\n"
     ]
    }
   ],
   "source": [
    "gaussian_curvature = mesh.get_attribute('vertex_gaussian_curvature')\n",
    "mean_curvature = mesh.get_attribute('vertex_mean_curvature')\n",
    "\n",
    "principal_curvature_1 = gaussian_curvature + (gaussian_curvature**2 - mean_curvature)**.5\n",
    "principal_curvature_2 = gaussian_curvature - (gaussian_curvature**2 - mean_curvature)**.5\n",
    "\n",
    "print 'c1:        {}'.format(principal_curvature_1[vi])\n",
    "print 'c2:        {}'.format(principal_curvature_1[vi])\n",
    "print 'c1c2:      {}'.format(gaussian_curvature[vi])\n",
    "print '(c1+c2)/2: {}'.format(mean_curvature[vi])\n",
    "\n",
    "f_c = [ principal_curvature_1[vi]\n",
    "       ,principal_curvature_2[vi]\n",
    "       ,mean_curvature[vi]\n",
    "       ,gaussian_curvature[vi]]\n",
    "\n",
    "print 'f_c:       {}'.format(f_c)"
   ]
  },
  {
   "cell_type": "code",
   "execution_count": null,
   "metadata": {},
   "outputs": [],
   "source": []
  }
 ],
 "metadata": {
  "kernelspec": {
   "display_name": "Python 2",
   "language": "python",
   "name": "python2"
  },
  "language_info": {
   "codemirror_mode": {
    "name": "ipython",
    "version": 2
   },
   "file_extension": ".py",
   "mimetype": "text/x-python",
   "name": "python",
   "nbconvert_exporter": "python",
   "pygments_lexer": "ipython2",
   "version": "2.7.14"
  }
 },
 "nbformat": 4,
 "nbformat_minor": 2
}
